{
 "cells": [
  {
   "cell_type": "code",
   "execution_count": 122,
   "id": "3bbe1442",
   "metadata": {},
   "outputs": [],
   "source": [
    "# I) importing libraries \n",
    "\n",
    "import numpy as np\n",
    "import pandas as pd\n",
    "\n",
    "import matplotlib.pyplot as plt\n",
    "\n",
    "from mlxtend.preprocessing import TransactionEncoder\n",
    "from sklearn import preprocessing\n",
    "\n",
    "\n",
    "import tensorflow as tf \n",
    "from tensorflow.keras.layers import Dense\n",
    "from tensorflow.keras.models import Sequential\n",
    "\n",
    "import pickle"
   ]
  },
  {
   "cell_type": "code",
   "execution_count": 7,
   "id": "14d07e7a",
   "metadata": {},
   "outputs": [
    {
     "data": {
      "text/html": [
       "<div>\n",
       "<style scoped>\n",
       "    .dataframe tbody tr th:only-of-type {\n",
       "        vertical-align: middle;\n",
       "    }\n",
       "\n",
       "    .dataframe tbody tr th {\n",
       "        vertical-align: top;\n",
       "    }\n",
       "\n",
       "    .dataframe thead th {\n",
       "        text-align: right;\n",
       "    }\n",
       "</style>\n",
       "<table border=\"1\" class=\"dataframe\">\n",
       "  <thead>\n",
       "    <tr style=\"text-align: right;\">\n",
       "      <th></th>\n",
       "      <th>Sepal.Length</th>\n",
       "      <th>Sepal.Width</th>\n",
       "      <th>Petal.Length</th>\n",
       "      <th>Petal.Width</th>\n",
       "      <th>Species</th>\n",
       "    </tr>\n",
       "  </thead>\n",
       "  <tbody>\n",
       "    <tr>\n",
       "      <th>0</th>\n",
       "      <td>4.7</td>\n",
       "      <td>3.2</td>\n",
       "      <td>1.3</td>\n",
       "      <td>0.2</td>\n",
       "      <td>setosa</td>\n",
       "    </tr>\n",
       "    <tr>\n",
       "      <th>1</th>\n",
       "      <td>5.0</td>\n",
       "      <td>3.6</td>\n",
       "      <td>1.4</td>\n",
       "      <td>0.2</td>\n",
       "      <td>setosa</td>\n",
       "    </tr>\n",
       "    <tr>\n",
       "      <th>2</th>\n",
       "      <td>5.4</td>\n",
       "      <td>3.9</td>\n",
       "      <td>1.7</td>\n",
       "      <td>0.4</td>\n",
       "      <td>setosa</td>\n",
       "    </tr>\n",
       "    <tr>\n",
       "      <th>3</th>\n",
       "      <td>4.6</td>\n",
       "      <td>3.4</td>\n",
       "      <td>1.4</td>\n",
       "      <td>0.3</td>\n",
       "      <td>setosa</td>\n",
       "    </tr>\n",
       "    <tr>\n",
       "      <th>4</th>\n",
       "      <td>4.9</td>\n",
       "      <td>3.1</td>\n",
       "      <td>1.5</td>\n",
       "      <td>0.1</td>\n",
       "      <td>setosa</td>\n",
       "    </tr>\n",
       "    <tr>\n",
       "      <th>...</th>\n",
       "      <td>...</td>\n",
       "      <td>...</td>\n",
       "      <td>...</td>\n",
       "      <td>...</td>\n",
       "      <td>...</td>\n",
       "    </tr>\n",
       "    <tr>\n",
       "      <th>100</th>\n",
       "      <td>6.7</td>\n",
       "      <td>3.3</td>\n",
       "      <td>5.7</td>\n",
       "      <td>2.5</td>\n",
       "      <td>virginica</td>\n",
       "    </tr>\n",
       "    <tr>\n",
       "      <th>101</th>\n",
       "      <td>6.7</td>\n",
       "      <td>3.0</td>\n",
       "      <td>5.2</td>\n",
       "      <td>2.3</td>\n",
       "      <td>virginica</td>\n",
       "    </tr>\n",
       "    <tr>\n",
       "      <th>102</th>\n",
       "      <td>6.5</td>\n",
       "      <td>3.0</td>\n",
       "      <td>5.2</td>\n",
       "      <td>2.0</td>\n",
       "      <td>virginica</td>\n",
       "    </tr>\n",
       "    <tr>\n",
       "      <th>103</th>\n",
       "      <td>6.2</td>\n",
       "      <td>3.4</td>\n",
       "      <td>5.4</td>\n",
       "      <td>2.3</td>\n",
       "      <td>virginica</td>\n",
       "    </tr>\n",
       "    <tr>\n",
       "      <th>104</th>\n",
       "      <td>5.9</td>\n",
       "      <td>3.0</td>\n",
       "      <td>5.1</td>\n",
       "      <td>1.8</td>\n",
       "      <td>virginica</td>\n",
       "    </tr>\n",
       "  </tbody>\n",
       "</table>\n",
       "<p>105 rows × 5 columns</p>\n",
       "</div>"
      ],
      "text/plain": [
       "     Sepal.Length  Sepal.Width  Petal.Length  Petal.Width    Species\n",
       "0             4.7          3.2           1.3          0.2     setosa\n",
       "1             5.0          3.6           1.4          0.2     setosa\n",
       "2             5.4          3.9           1.7          0.4     setosa\n",
       "3             4.6          3.4           1.4          0.3     setosa\n",
       "4             4.9          3.1           1.5          0.1     setosa\n",
       "..            ...          ...           ...          ...        ...\n",
       "100           6.7          3.3           5.7          2.5  virginica\n",
       "101           6.7          3.0           5.2          2.3  virginica\n",
       "102           6.5          3.0           5.2          2.0  virginica\n",
       "103           6.2          3.4           5.4          2.3  virginica\n",
       "104           5.9          3.0           5.1          1.8  virginica\n",
       "\n",
       "[105 rows x 5 columns]"
      ]
     },
     "execution_count": 7,
     "metadata": {},
     "output_type": "execute_result"
    }
   ],
   "source": [
    "# II) importing the datasets \n",
    "#1) training dataset \n",
    "training=pd.read_csv('https://raw.githubusercontent.com/selva86/datasets/master/iris_train.csv')\n",
    "#2) testing dataset \n",
    "testing=pd.read_csv('https://raw.githubusercontent.com/selva86/datasets/master/iris_test.csv')\n",
    "training"
   ]
  },
  {
   "cell_type": "code",
   "execution_count": 5,
   "id": "6549f71c",
   "metadata": {},
   "outputs": [
    {
     "data": {
      "text/plain": [
       "Sepal.Length    0\n",
       "Sepal.Width     0\n",
       "Petal.Length    0\n",
       "Petal.Width     0\n",
       "Species         0\n",
       "dtype: int64"
      ]
     },
     "execution_count": 5,
     "metadata": {},
     "output_type": "execute_result"
    }
   ],
   "source": [
    "# III) data preprocessing \n",
    "#1)verifying if there are missing data\n",
    "#a) training dataset \n",
    "training.isna().sum()"
   ]
  },
  {
   "cell_type": "code",
   "execution_count": 18,
   "id": "fc25220c",
   "metadata": {},
   "outputs": [
    {
     "data": {
      "text/plain": [
       "Sepal.Length    0\n",
       "Sepal.Width     0\n",
       "Petal.Length    0\n",
       "Petal.Width     0\n",
       "Species         0\n",
       "dtype: int64"
      ]
     },
     "execution_count": 18,
     "metadata": {},
     "output_type": "execute_result"
    }
   ],
   "source": [
    "#after checking we can see that there is no missing data in the trainingset\n",
    "#b) training dataset \n",
    "testing.isna().sum()"
   ]
  },
  {
   "cell_type": "code",
   "execution_count": 23,
   "id": "6ea04ab3",
   "metadata": {},
   "outputs": [
    {
     "data": {
      "text/html": [
       "<div>\n",
       "<style scoped>\n",
       "    .dataframe tbody tr th:only-of-type {\n",
       "        vertical-align: middle;\n",
       "    }\n",
       "\n",
       "    .dataframe tbody tr th {\n",
       "        vertical-align: top;\n",
       "    }\n",
       "\n",
       "    .dataframe thead th {\n",
       "        text-align: right;\n",
       "    }\n",
       "</style>\n",
       "<table border=\"1\" class=\"dataframe\">\n",
       "  <thead>\n",
       "    <tr style=\"text-align: right;\">\n",
       "      <th></th>\n",
       "      <th>Species</th>\n",
       "    </tr>\n",
       "    <tr>\n",
       "      <th>Petal.Width</th>\n",
       "      <th></th>\n",
       "    </tr>\n",
       "  </thead>\n",
       "  <tbody>\n",
       "    <tr>\n",
       "      <th>0.1</th>\n",
       "      <td>4</td>\n",
       "    </tr>\n",
       "    <tr>\n",
       "      <th>0.2</th>\n",
       "      <td>18</td>\n",
       "    </tr>\n",
       "    <tr>\n",
       "      <th>0.3</th>\n",
       "      <td>5</td>\n",
       "    </tr>\n",
       "    <tr>\n",
       "      <th>0.4</th>\n",
       "      <td>7</td>\n",
       "    </tr>\n",
       "    <tr>\n",
       "      <th>0.5</th>\n",
       "      <td>1</td>\n",
       "    </tr>\n",
       "    <tr>\n",
       "      <th>1.0</th>\n",
       "      <td>4</td>\n",
       "    </tr>\n",
       "    <tr>\n",
       "      <th>1.1</th>\n",
       "      <td>3</td>\n",
       "    </tr>\n",
       "    <tr>\n",
       "      <th>1.2</th>\n",
       "      <td>4</td>\n",
       "    </tr>\n",
       "    <tr>\n",
       "      <th>1.3</th>\n",
       "      <td>11</td>\n",
       "    </tr>\n",
       "    <tr>\n",
       "      <th>1.4</th>\n",
       "      <td>4</td>\n",
       "    </tr>\n",
       "    <tr>\n",
       "      <th>1.5</th>\n",
       "      <td>9</td>\n",
       "    </tr>\n",
       "    <tr>\n",
       "      <th>1.6</th>\n",
       "      <td>3</td>\n",
       "    </tr>\n",
       "    <tr>\n",
       "      <th>1.7</th>\n",
       "      <td>1</td>\n",
       "    </tr>\n",
       "    <tr>\n",
       "      <th>1.8</th>\n",
       "      <td>10</td>\n",
       "    </tr>\n",
       "    <tr>\n",
       "      <th>1.9</th>\n",
       "      <td>3</td>\n",
       "    </tr>\n",
       "    <tr>\n",
       "      <th>2.0</th>\n",
       "      <td>5</td>\n",
       "    </tr>\n",
       "    <tr>\n",
       "      <th>2.1</th>\n",
       "      <td>4</td>\n",
       "    </tr>\n",
       "    <tr>\n",
       "      <th>2.3</th>\n",
       "      <td>5</td>\n",
       "    </tr>\n",
       "    <tr>\n",
       "      <th>2.4</th>\n",
       "      <td>1</td>\n",
       "    </tr>\n",
       "    <tr>\n",
       "      <th>2.5</th>\n",
       "      <td>3</td>\n",
       "    </tr>\n",
       "  </tbody>\n",
       "</table>\n",
       "</div>"
      ],
      "text/plain": [
       "             Species\n",
       "Petal.Width         \n",
       "0.1                4\n",
       "0.2               18\n",
       "0.3                5\n",
       "0.4                7\n",
       "0.5                1\n",
       "1.0                4\n",
       "1.1                3\n",
       "1.2                4\n",
       "1.3               11\n",
       "1.4                4\n",
       "1.5                9\n",
       "1.6                3\n",
       "1.7                1\n",
       "1.8               10\n",
       "1.9                3\n",
       "2.0                5\n",
       "2.1                4\n",
       "2.3                5\n",
       "2.4                1\n",
       "2.5                3"
      ]
     },
     "execution_count": 23,
     "metadata": {},
     "output_type": "execute_result"
    }
   ],
   "source": [
    "#after checking we can see that there is no missing data in the testingset\n",
    "#since there is no missing data we won't have to fill any missing thing\n",
    "#3) data intigration \n",
    "training[['Species','Petal.Width']].groupby('Petal.Width').count()"
   ]
  },
  {
   "cell_type": "code",
   "execution_count": 31,
   "id": "957143e6",
   "metadata": {},
   "outputs": [
    {
     "data": {
      "text/plain": [
       "Text(0.5, 0, 'Petal.Width')"
      ]
     },
     "execution_count": 31,
     "metadata": {},
     "output_type": "execute_result"
    },
    {
     "data": {
      "image/png": "[encoded data removed]",
      "text/plain": [
       "<Figure size 432x288 with 4 Axes>"
      ]
     },
     "metadata": {
      "needs_background": "light"
     },
     "output_type": "display_data"
    }
   ],
   "source": [
    "#the flowers that have 0.1 as Petal.Width are 4 from the table so the rest can be read by readers\n",
    "#4) plotings \n",
    "#a) boxplots\n",
    "plt.subplot(2,2,1)\n",
    "plt.boxplot(training['Sepal.Length'])\n",
    "plt.ylabel('Sepal.Length')\n",
    "plt.subplot(2,2,2)\n",
    "plt.boxplot(training['Sepal.Width'])\n",
    "plt.ylabel('Sepal.Width')\n",
    "plt.subplot(2,2,3)\n",
    "plt.boxplot(training['Petal.Length'])\n",
    "plt.xlabel('Petal.Length')\n",
    "plt.subplot(2,2,4)\n",
    "plt.boxplot(training['Petal.Width'])\n",
    "plt.xlabel('Petal.Width')"
   ]
  },
  {
   "cell_type": "code",
   "execution_count": 32,
   "id": "672a6718",
   "metadata": {},
   "outputs": [
    {
     "data": {
      "text/plain": [
       "Text(0.5, 0, 'Petal.Width')"
      ]
     },
     "execution_count": 32,
     "metadata": {},
     "output_type": "execute_result"
    },
    {
     "data": {
      "image/png": "[encoded data removed]",
      "text/plain": [
       "<Figure size 432x288 with 4 Axes>"
      ]
     },
     "metadata": {
      "needs_background": "light"
     },
     "output_type": "display_data"
    }
   ],
   "source": [
    "#we can read all the maxs and mins the medians  the 25% and 75 % quartiles on the boxplots \n",
    "#a) histograms\n",
    "plt.subplot(2,2,1)\n",
    "plt.hist(training['Sepal.Length'])\n",
    "plt.ylabel('Sepal.Length')\n",
    "plt.subplot(2,2,2)\n",
    "plt.hist(training['Sepal.Width'])\n",
    "plt.ylabel('Sepal.Width')\n",
    "plt.subplot(2,2,3)\n",
    "plt.hist(training['Petal.Length'])\n",
    "plt.xlabel('Petal.Length')\n",
    "plt.subplot(2,2,4)\n",
    "plt.hist(training['Petal.Width'])\n",
    "plt.xlabel('Petal.Width')"
   ]
  },
  {
   "cell_type": "code",
   "execution_count": 39,
   "id": "1b6e9058",
   "metadata": {},
   "outputs": [
    {
     "data": {
      "text/plain": [
       "Text(0, 0.5, 'Petal.Width')"
      ]
     },
     "execution_count": 39,
     "metadata": {},
     "output_type": "execute_result"
    },
    {
     "data": {
      "image/png": "[encoded data removed]",
      "text/plain": [
       "<Figure size 432x288 with 2 Axes>"
      ]
     },
     "metadata": {
      "needs_background": "light"
     },
     "output_type": "display_data"
    }
   ],
   "source": [
    "#readers can read on the histograms to make some analysis \n",
    "#c) scatters plots to see  if there is relations between those variables \n",
    "plt.subplot(1,2,1)\n",
    "plt.scatter(training['Sepal.Length'],training['Sepal.Width'],color='r')\n",
    "plt.xlabel('Sepal.Length')\n",
    "plt.ylabel('Sepal.Width')\n",
    "plt.subplot(1,2,2)\n",
    "plt.scatter(training['Petal.Length'],training['Petal.Width'],color='r')\n",
    "plt.xlabel('Petal.Length')\n",
    "plt.ylabel('Petal.Width')"
   ]
  },
  {
   "cell_type": "code",
   "execution_count": 44,
   "id": "6970b819",
   "metadata": {},
   "outputs": [
    {
     "name": "stdout",
     "output_type": "stream",
     "text": [
      "[array(['setosa', 'versicolor', 'virginica'], dtype=object)]\n",
      "[array([0, 1, 2])]\n"
     ]
    }
   ],
   "source": [
    "#in this case there is no relation between the Sepal.Length and the Sepal.Width\n",
    "#in this case the Petal.Length and the Petal.Width are positivly correlated \n",
    "#5) data transformation \n",
    "le = preprocessing.LabelEncoder()\n",
    "varnames=[training[\"Species\"]]\n",
    "classeattri=[]\n",
    "numberattri=[]\n",
    "for var in varnames:\n",
    "    le.fit(var)\n",
    "    classeattri.append(le.classes_)\n",
    "    numberattri.append(le.transform(le.classes_))\n",
    "print(classeattri)\n",
    "print(numberattri)"
   ]
  },
  {
   "cell_type": "code",
   "execution_count": 45,
   "id": "271881d2",
   "metadata": {},
   "outputs": [],
   "source": [
    "#setosa=0,versicolor=1,virginica=2\n",
    "#lets now transform the traning and dataset \n",
    "#transformation the whole table into int instead of str\n",
    "for i in training.columns:\n",
    "    if isinstance(training[i][0], str):\n",
    "            training[i] = le.fit_transform(training[i])\n",
    "for i in testing.columns:\n",
    "    if isinstance(testing[i][0], str):\n",
    "            testing[i] = le.fit_transform(testing[i])           "
   ]
  },
  {
   "cell_type": "code",
   "execution_count": 46,
   "id": "baf99c7c",
   "metadata": {},
   "outputs": [
    {
     "data": {
      "text/html": [
       "<div>\n",
       "<style scoped>\n",
       "    .dataframe tbody tr th:only-of-type {\n",
       "        vertical-align: middle;\n",
       "    }\n",
       "\n",
       "    .dataframe tbody tr th {\n",
       "        vertical-align: top;\n",
       "    }\n",
       "\n",
       "    .dataframe thead th {\n",
       "        text-align: right;\n",
       "    }\n",
       "</style>\n",
       "<table border=\"1\" class=\"dataframe\">\n",
       "  <thead>\n",
       "    <tr style=\"text-align: right;\">\n",
       "      <th></th>\n",
       "      <th>Sepal.Length</th>\n",
       "      <th>Sepal.Width</th>\n",
       "      <th>Petal.Length</th>\n",
       "      <th>Petal.Width</th>\n",
       "      <th>Species</th>\n",
       "    </tr>\n",
       "  </thead>\n",
       "  <tbody>\n",
       "    <tr>\n",
       "      <th>0</th>\n",
       "      <td>4.7</td>\n",
       "      <td>3.2</td>\n",
       "      <td>1.3</td>\n",
       "      <td>0.2</td>\n",
       "      <td>0</td>\n",
       "    </tr>\n",
       "    <tr>\n",
       "      <th>1</th>\n",
       "      <td>5.0</td>\n",
       "      <td>3.6</td>\n",
       "      <td>1.4</td>\n",
       "      <td>0.2</td>\n",
       "      <td>0</td>\n",
       "    </tr>\n",
       "    <tr>\n",
       "      <th>2</th>\n",
       "      <td>5.4</td>\n",
       "      <td>3.9</td>\n",
       "      <td>1.7</td>\n",
       "      <td>0.4</td>\n",
       "      <td>0</td>\n",
       "    </tr>\n",
       "    <tr>\n",
       "      <th>3</th>\n",
       "      <td>4.6</td>\n",
       "      <td>3.4</td>\n",
       "      <td>1.4</td>\n",
       "      <td>0.3</td>\n",
       "      <td>0</td>\n",
       "    </tr>\n",
       "    <tr>\n",
       "      <th>4</th>\n",
       "      <td>4.9</td>\n",
       "      <td>3.1</td>\n",
       "      <td>1.5</td>\n",
       "      <td>0.1</td>\n",
       "      <td>0</td>\n",
       "    </tr>\n",
       "    <tr>\n",
       "      <th>...</th>\n",
       "      <td>...</td>\n",
       "      <td>...</td>\n",
       "      <td>...</td>\n",
       "      <td>...</td>\n",
       "      <td>...</td>\n",
       "    </tr>\n",
       "    <tr>\n",
       "      <th>100</th>\n",
       "      <td>6.7</td>\n",
       "      <td>3.3</td>\n",
       "      <td>5.7</td>\n",
       "      <td>2.5</td>\n",
       "      <td>2</td>\n",
       "    </tr>\n",
       "    <tr>\n",
       "      <th>101</th>\n",
       "      <td>6.7</td>\n",
       "      <td>3.0</td>\n",
       "      <td>5.2</td>\n",
       "      <td>2.3</td>\n",
       "      <td>2</td>\n",
       "    </tr>\n",
       "    <tr>\n",
       "      <th>102</th>\n",
       "      <td>6.5</td>\n",
       "      <td>3.0</td>\n",
       "      <td>5.2</td>\n",
       "      <td>2.0</td>\n",
       "      <td>2</td>\n",
       "    </tr>\n",
       "    <tr>\n",
       "      <th>103</th>\n",
       "      <td>6.2</td>\n",
       "      <td>3.4</td>\n",
       "      <td>5.4</td>\n",
       "      <td>2.3</td>\n",
       "      <td>2</td>\n",
       "    </tr>\n",
       "    <tr>\n",
       "      <th>104</th>\n",
       "      <td>5.9</td>\n",
       "      <td>3.0</td>\n",
       "      <td>5.1</td>\n",
       "      <td>1.8</td>\n",
       "      <td>2</td>\n",
       "    </tr>\n",
       "  </tbody>\n",
       "</table>\n",
       "<p>105 rows × 5 columns</p>\n",
       "</div>"
      ],
      "text/plain": [
       "     Sepal.Length  Sepal.Width  Petal.Length  Petal.Width  Species\n",
       "0             4.7          3.2           1.3          0.2        0\n",
       "1             5.0          3.6           1.4          0.2        0\n",
       "2             5.4          3.9           1.7          0.4        0\n",
       "3             4.6          3.4           1.4          0.3        0\n",
       "4             4.9          3.1           1.5          0.1        0\n",
       "..            ...          ...           ...          ...      ...\n",
       "100           6.7          3.3           5.7          2.5        2\n",
       "101           6.7          3.0           5.2          2.3        2\n",
       "102           6.5          3.0           5.2          2.0        2\n",
       "103           6.2          3.4           5.4          2.3        2\n",
       "104           5.9          3.0           5.1          1.8        2\n",
       "\n",
       "[105 rows x 5 columns]"
      ]
     },
     "execution_count": 46,
     "metadata": {},
     "output_type": "execute_result"
    }
   ],
   "source": [
    "training"
   ]
  },
  {
   "cell_type": "code",
   "execution_count": 53,
   "id": "4b532ee0",
   "metadata": {},
   "outputs": [],
   "source": [
    "#lets now transform the datasets into numpy arrays \n",
    "mytrain=np.array(training)\n",
    "mytest=np.array(testing)"
   ]
  },
  {
   "cell_type": "code",
   "execution_count": 56,
   "id": "8e28be0b",
   "metadata": {},
   "outputs": [
    {
     "data": {
      "text/plain": [
       "array([[4.7, 3.2, 1.3, 0.2, 0. ],\n",
       "       [5. , 3.6, 1.4, 0.2, 0. ],\n",
       "       [5.4, 3.9, 1.7, 0.4, 0. ],\n",
       "       [4.6, 3.4, 1.4, 0.3, 0. ],\n",
       "       [4.9, 3.1, 1.5, 0.1, 0. ],\n",
       "       [5.4, 3.7, 1.5, 0.2, 0. ],\n",
       "       [4.8, 3.4, 1.6, 0.2, 0. ],\n",
       "       [4.8, 3. , 1.4, 0.1, 0. ],\n",
       "       [5.8, 4. , 1.2, 0.2, 0. ],\n",
       "       [5.7, 4.4, 1.5, 0.4, 0. ],\n",
       "       [5.4, 3.9, 1.3, 0.4, 0. ],\n",
       "       [5.1, 3.5, 1.4, 0.3, 0. ],\n",
       "       [5.7, 3.8, 1.7, 0.3, 0. ],\n",
       "       [5.4, 3.4, 1.7, 0.2, 0. ],\n",
       "       [5.1, 3.7, 1.5, 0.4, 0. ],\n",
       "       [4.6, 3.6, 1. , 0.2, 0. ],\n",
       "       [5.1, 3.3, 1.7, 0.5, 0. ],\n",
       "       [4.8, 3.4, 1.9, 0.2, 0. ],\n",
       "       [5. , 3.4, 1.6, 0.4, 0. ],\n",
       "       [5.2, 3.5, 1.5, 0.2, 0. ],\n",
       "       [5.2, 3.4, 1.4, 0.2, 0. ],\n",
       "       [4.7, 3.2, 1.6, 0.2, 0. ],\n",
       "       [5.4, 3.4, 1.5, 0.4, 0. ],\n",
       "       [5.2, 4.1, 1.5, 0.1, 0. ],\n",
       "       [5.5, 4.2, 1.4, 0.2, 0. ],\n",
       "       [4.9, 3.1, 1.5, 0.2, 0. ],\n",
       "       [5. , 3.2, 1.2, 0.2, 0. ],\n",
       "       [4.9, 3.6, 1.4, 0.1, 0. ],\n",
       "       [5. , 3.5, 1.3, 0.3, 0. ],\n",
       "       [4.4, 3.2, 1.3, 0.2, 0. ],\n",
       "       [5.1, 3.8, 1.9, 0.4, 0. ],\n",
       "       [4.8, 3. , 1.4, 0.3, 0. ],\n",
       "       [4.6, 3.2, 1.4, 0.2, 0. ],\n",
       "       [5.3, 3.7, 1.5, 0.2, 0. ],\n",
       "       [5. , 3.3, 1.4, 0.2, 0. ],\n",
       "       [5.5, 2.3, 4. , 1.3, 1. ],\n",
       "       [6.5, 2.8, 4.6, 1.5, 1. ],\n",
       "       [5.7, 2.8, 4.5, 1.3, 1. ],\n",
       "       [6.3, 3.3, 4.7, 1.6, 1. ],\n",
       "       [4.9, 2.4, 3.3, 1. , 1. ],\n",
       "       [6.6, 2.9, 4.6, 1.3, 1. ],\n",
       "       [5.2, 2.7, 3.9, 1.4, 1. ],\n",
       "       [5.9, 3. , 4.2, 1.5, 1. ],\n",
       "       [5.6, 2.9, 3.6, 1.3, 1. ],\n",
       "       [6.7, 3.1, 4.4, 1.4, 1. ],\n",
       "       [5.6, 3. , 4.5, 1.5, 1. ],\n",
       "       [6.2, 2.2, 4.5, 1.5, 1. ],\n",
       "       [5.6, 2.5, 3.9, 1.1, 1. ],\n",
       "       [6.3, 2.5, 4.9, 1.5, 1. ],\n",
       "       [6.4, 2.9, 4.3, 1.3, 1. ],\n",
       "       [5.7, 2.6, 3.5, 1. , 1. ],\n",
       "       [5.5, 2.4, 3.8, 1.1, 1. ],\n",
       "       [5.5, 2.4, 3.7, 1. , 1. ],\n",
       "       [5.8, 2.7, 3.9, 1.2, 1. ],\n",
       "       [6. , 2.7, 5.1, 1.6, 1. ],\n",
       "       [5.4, 3. , 4.5, 1.5, 1. ],\n",
       "       [6. , 3.4, 4.5, 1.6, 1. ],\n",
       "       [6.7, 3.1, 4.7, 1.5, 1. ],\n",
       "       [6.3, 2.3, 4.4, 1.3, 1. ],\n",
       "       [5.6, 3. , 4.1, 1.3, 1. ],\n",
       "       [5.5, 2.6, 4.4, 1.2, 1. ],\n",
       "       [6.1, 3. , 4.6, 1.4, 1. ],\n",
       "       [5.8, 2.6, 4. , 1.2, 1. ],\n",
       "       [5. , 2.3, 3.3, 1. , 1. ],\n",
       "       [5.6, 2.7, 4.2, 1.3, 1. ],\n",
       "       [5.7, 3. , 4.2, 1.2, 1. ],\n",
       "       [5.7, 2.9, 4.2, 1.3, 1. ],\n",
       "       [6.2, 2.9, 4.3, 1.3, 1. ],\n",
       "       [5.1, 2.5, 3. , 1.1, 1. ],\n",
       "       [5.7, 2.8, 4.1, 1.3, 1. ],\n",
       "       [6.3, 3.3, 6. , 2.5, 2. ],\n",
       "       [5.8, 2.7, 5.1, 1.9, 2. ],\n",
       "       [7.1, 3. , 5.9, 2.1, 2. ],\n",
       "       [6.3, 2.9, 5.6, 1.8, 2. ],\n",
       "       [4.9, 2.5, 4.5, 1.7, 2. ],\n",
       "       [7.3, 2.9, 6.3, 1.8, 2. ],\n",
       "       [6.7, 2.5, 5.8, 1.8, 2. ],\n",
       "       [7.2, 3.6, 6.1, 2.5, 2. ],\n",
       "       [6.5, 3.2, 5.1, 2. , 2. ],\n",
       "       [6.8, 3. , 5.5, 2.1, 2. ],\n",
       "       [6.5, 3. , 5.5, 1.8, 2. ],\n",
       "       [7.7, 2.6, 6.9, 2.3, 2. ],\n",
       "       [6. , 2.2, 5. , 1.5, 2. ],\n",
       "       [6.9, 3.2, 5.7, 2.3, 2. ],\n",
       "       [5.6, 2.8, 4.9, 2. , 2. ],\n",
       "       [7.7, 2.8, 6.7, 2. , 2. ],\n",
       "       [6.3, 2.7, 4.9, 1.8, 2. ],\n",
       "       [6.7, 3.3, 5.7, 2.1, 2. ],\n",
       "       [6.2, 2.8, 4.8, 1.8, 2. ],\n",
       "       [6.1, 3. , 4.9, 1.8, 2. ],\n",
       "       [6.4, 2.8, 5.6, 2.1, 2. ],\n",
       "       [7.4, 2.8, 6.1, 1.9, 2. ],\n",
       "       [7.9, 3.8, 6.4, 2. , 2. ],\n",
       "       [6.3, 2.8, 5.1, 1.5, 2. ],\n",
       "       [6.1, 2.6, 5.6, 1.4, 2. ],\n",
       "       [7.7, 3. , 6.1, 2.3, 2. ],\n",
       "       [6.3, 3.4, 5.6, 2.4, 2. ],\n",
       "       [6.4, 3.1, 5.5, 1.8, 2. ],\n",
       "       [6. , 3. , 4.8, 1.8, 2. ],\n",
       "       [5.8, 2.7, 5.1, 1.9, 2. ],\n",
       "       [6.7, 3.3, 5.7, 2.5, 2. ],\n",
       "       [6.7, 3. , 5.2, 2.3, 2. ],\n",
       "       [6.5, 3. , 5.2, 2. , 2. ],\n",
       "       [6.2, 3.4, 5.4, 2.3, 2. ],\n",
       "       [5.9, 3. , 5.1, 1.8, 2. ]])"
      ]
     },
     "execution_count": 56,
     "metadata": {},
     "output_type": "execute_result"
    }
   ],
   "source": [
    "mytrain"
   ]
  },
  {
   "cell_type": "code",
   "execution_count": 87,
   "id": "c9e4ac10",
   "metadata": {},
   "outputs": [],
   "source": [
    "#because we are going to use tensorflow that understands only numbers \n",
    "# in this study we dont have to scale the data \n",
    "#IV) model creation \n",
    "#1) lets split the data into xtrain,ytrain,xtest,ytest.\n",
    "#a) for xtrain and ytrain \n",
    "xtrain=mytrain[:,0:4].astype(float)\n",
    "ytrain=mytrain[:,4]"
   ]
  },
  {
   "cell_type": "code",
   "execution_count": 88,
   "id": "7a77213b",
   "metadata": {},
   "outputs": [
    {
     "data": {
      "text/plain": [
       "array([[4.7, 3.2, 1.3, 0.2],\n",
       "       [5. , 3.6, 1.4, 0.2],\n",
       "       [5.4, 3.9, 1.7, 0.4],\n",
       "       [4.6, 3.4, 1.4, 0.3],\n",
       "       [4.9, 3.1, 1.5, 0.1],\n",
       "       [5.4, 3.7, 1.5, 0.2],\n",
       "       [4.8, 3.4, 1.6, 0.2],\n",
       "       [4.8, 3. , 1.4, 0.1],\n",
       "       [5.8, 4. , 1.2, 0.2],\n",
       "       [5.7, 4.4, 1.5, 0.4],\n",
       "       [5.4, 3.9, 1.3, 0.4],\n",
       "       [5.1, 3.5, 1.4, 0.3],\n",
       "       [5.7, 3.8, 1.7, 0.3],\n",
       "       [5.4, 3.4, 1.7, 0.2],\n",
       "       [5.1, 3.7, 1.5, 0.4],\n",
       "       [4.6, 3.6, 1. , 0.2],\n",
       "       [5.1, 3.3, 1.7, 0.5],\n",
       "       [4.8, 3.4, 1.9, 0.2],\n",
       "       [5. , 3.4, 1.6, 0.4],\n",
       "       [5.2, 3.5, 1.5, 0.2],\n",
       "       [5.2, 3.4, 1.4, 0.2],\n",
       "       [4.7, 3.2, 1.6, 0.2],\n",
       "       [5.4, 3.4, 1.5, 0.4],\n",
       "       [5.2, 4.1, 1.5, 0.1],\n",
       "       [5.5, 4.2, 1.4, 0.2],\n",
       "       [4.9, 3.1, 1.5, 0.2],\n",
       "       [5. , 3.2, 1.2, 0.2],\n",
       "       [4.9, 3.6, 1.4, 0.1],\n",
       "       [5. , 3.5, 1.3, 0.3],\n",
       "       [4.4, 3.2, 1.3, 0.2],\n",
       "       [5.1, 3.8, 1.9, 0.4],\n",
       "       [4.8, 3. , 1.4, 0.3],\n",
       "       [4.6, 3.2, 1.4, 0.2],\n",
       "       [5.3, 3.7, 1.5, 0.2],\n",
       "       [5. , 3.3, 1.4, 0.2],\n",
       "       [5.5, 2.3, 4. , 1.3],\n",
       "       [6.5, 2.8, 4.6, 1.5],\n",
       "       [5.7, 2.8, 4.5, 1.3],\n",
       "       [6.3, 3.3, 4.7, 1.6],\n",
       "       [4.9, 2.4, 3.3, 1. ],\n",
       "       [6.6, 2.9, 4.6, 1.3],\n",
       "       [5.2, 2.7, 3.9, 1.4],\n",
       "       [5.9, 3. , 4.2, 1.5],\n",
       "       [5.6, 2.9, 3.6, 1.3],\n",
       "       [6.7, 3.1, 4.4, 1.4],\n",
       "       [5.6, 3. , 4.5, 1.5],\n",
       "       [6.2, 2.2, 4.5, 1.5],\n",
       "       [5.6, 2.5, 3.9, 1.1],\n",
       "       [6.3, 2.5, 4.9, 1.5],\n",
       "       [6.4, 2.9, 4.3, 1.3],\n",
       "       [5.7, 2.6, 3.5, 1. ],\n",
       "       [5.5, 2.4, 3.8, 1.1],\n",
       "       [5.5, 2.4, 3.7, 1. ],\n",
       "       [5.8, 2.7, 3.9, 1.2],\n",
       "       [6. , 2.7, 5.1, 1.6],\n",
       "       [5.4, 3. , 4.5, 1.5],\n",
       "       [6. , 3.4, 4.5, 1.6],\n",
       "       [6.7, 3.1, 4.7, 1.5],\n",
       "       [6.3, 2.3, 4.4, 1.3],\n",
       "       [5.6, 3. , 4.1, 1.3],\n",
       "       [5.5, 2.6, 4.4, 1.2],\n",
       "       [6.1, 3. , 4.6, 1.4],\n",
       "       [5.8, 2.6, 4. , 1.2],\n",
       "       [5. , 2.3, 3.3, 1. ],\n",
       "       [5.6, 2.7, 4.2, 1.3],\n",
       "       [5.7, 3. , 4.2, 1.2],\n",
       "       [5.7, 2.9, 4.2, 1.3],\n",
       "       [6.2, 2.9, 4.3, 1.3],\n",
       "       [5.1, 2.5, 3. , 1.1],\n",
       "       [5.7, 2.8, 4.1, 1.3],\n",
       "       [6.3, 3.3, 6. , 2.5],\n",
       "       [5.8, 2.7, 5.1, 1.9],\n",
       "       [7.1, 3. , 5.9, 2.1],\n",
       "       [6.3, 2.9, 5.6, 1.8],\n",
       "       [4.9, 2.5, 4.5, 1.7],\n",
       "       [7.3, 2.9, 6.3, 1.8],\n",
       "       [6.7, 2.5, 5.8, 1.8],\n",
       "       [7.2, 3.6, 6.1, 2.5],\n",
       "       [6.5, 3.2, 5.1, 2. ],\n",
       "       [6.8, 3. , 5.5, 2.1],\n",
       "       [6.5, 3. , 5.5, 1.8],\n",
       "       [7.7, 2.6, 6.9, 2.3],\n",
       "       [6. , 2.2, 5. , 1.5],\n",
       "       [6.9, 3.2, 5.7, 2.3],\n",
       "       [5.6, 2.8, 4.9, 2. ],\n",
       "       [7.7, 2.8, 6.7, 2. ],\n",
       "       [6.3, 2.7, 4.9, 1.8],\n",
       "       [6.7, 3.3, 5.7, 2.1],\n",
       "       [6.2, 2.8, 4.8, 1.8],\n",
       "       [6.1, 3. , 4.9, 1.8],\n",
       "       [6.4, 2.8, 5.6, 2.1],\n",
       "       [7.4, 2.8, 6.1, 1.9],\n",
       "       [7.9, 3.8, 6.4, 2. ],\n",
       "       [6.3, 2.8, 5.1, 1.5],\n",
       "       [6.1, 2.6, 5.6, 1.4],\n",
       "       [7.7, 3. , 6.1, 2.3],\n",
       "       [6.3, 3.4, 5.6, 2.4],\n",
       "       [6.4, 3.1, 5.5, 1.8],\n",
       "       [6. , 3. , 4.8, 1.8],\n",
       "       [5.8, 2.7, 5.1, 1.9],\n",
       "       [6.7, 3.3, 5.7, 2.5],\n",
       "       [6.7, 3. , 5.2, 2.3],\n",
       "       [6.5, 3. , 5.2, 2. ],\n",
       "       [6.2, 3.4, 5.4, 2.3],\n",
       "       [5.9, 3. , 5.1, 1.8]])"
      ]
     },
     "execution_count": 88,
     "metadata": {},
     "output_type": "execute_result"
    }
   ],
   "source": [
    "xtrain"
   ]
  },
  {
   "cell_type": "code",
   "execution_count": 89,
   "id": "59f5c25f",
   "metadata": {},
   "outputs": [
    {
     "data": {
      "text/plain": [
       "array([0., 0., 0., 0., 0., 0., 0., 0., 0., 0., 0., 0., 0., 0., 0., 0., 0.,\n",
       "       0., 0., 0., 0., 0., 0., 0., 0., 0., 0., 0., 0., 0., 0., 0., 0., 0.,\n",
       "       0., 1., 1., 1., 1., 1., 1., 1., 1., 1., 1., 1., 1., 1., 1., 1., 1.,\n",
       "       1., 1., 1., 1., 1., 1., 1., 1., 1., 1., 1., 1., 1., 1., 1., 1., 1.,\n",
       "       1., 1., 2., 2., 2., 2., 2., 2., 2., 2., 2., 2., 2., 2., 2., 2., 2.,\n",
       "       2., 2., 2., 2., 2., 2., 2., 2., 2., 2., 2., 2., 2., 2., 2., 2., 2.,\n",
       "       2., 2., 2.])"
      ]
     },
     "execution_count": 89,
     "metadata": {},
     "output_type": "execute_result"
    }
   ],
   "source": [
    "ytaing"
   ]
  },
  {
   "cell_type": "code",
   "execution_count": 90,
   "id": "c1012329",
   "metadata": {},
   "outputs": [],
   "source": [
    "#b) for xtest and ytest\n",
    "xtest=mytest[:,0:4].astype(float)\n",
    "ytest=mytest[:,4]"
   ]
  },
  {
   "cell_type": "code",
   "execution_count": 91,
   "id": "c44b010a",
   "metadata": {},
   "outputs": [
    {
     "data": {
      "text/plain": [
       "array([[5.1, 3.5, 1.4, 0.2],\n",
       "       [4.9, 3. , 1.4, 0.2],\n",
       "       [4.6, 3.1, 1.5, 0.2],\n",
       "       [5. , 3.4, 1.5, 0.2],\n",
       "       [4.4, 2.9, 1.4, 0.2],\n",
       "       [4.3, 3. , 1.1, 0.1],\n",
       "       [5.1, 3.8, 1.5, 0.3],\n",
       "       [5. , 3. , 1.6, 0.2],\n",
       "       [4.8, 3.1, 1.6, 0.2],\n",
       "       [5.5, 3.5, 1.3, 0.2],\n",
       "       [4.4, 3. , 1.3, 0.2],\n",
       "       [5.1, 3.4, 1.5, 0.2],\n",
       "       [4.5, 2.3, 1.3, 0.3],\n",
       "       [5. , 3.5, 1.6, 0.6],\n",
       "       [5.1, 3.8, 1.6, 0.2],\n",
       "       [7. , 3.2, 4.7, 1.4],\n",
       "       [6.4, 3.2, 4.5, 1.5],\n",
       "       [6.9, 3.1, 4.9, 1.5],\n",
       "       [5. , 2. , 3.5, 1. ],\n",
       "       [6. , 2.2, 4. , 1. ],\n",
       "       [6.1, 2.9, 4.7, 1.4],\n",
       "       [5.8, 2.7, 4.1, 1. ],\n",
       "       [5.9, 3.2, 4.8, 1.8],\n",
       "       [6.1, 2.8, 4. , 1.3],\n",
       "       [6.1, 2.8, 4.7, 1.2],\n",
       "       [6.6, 3. , 4.4, 1.4],\n",
       "       [6.8, 2.8, 4.8, 1.4],\n",
       "       [6.7, 3. , 5. , 1.7],\n",
       "       [6. , 2.9, 4.5, 1.5],\n",
       "       [5.5, 2.5, 4. , 1.3],\n",
       "       [6.5, 3. , 5.8, 2.2],\n",
       "       [7.6, 3. , 6.6, 2.1],\n",
       "       [6.4, 2.7, 5.3, 1.9],\n",
       "       [5.7, 2.5, 5. , 2. ],\n",
       "       [5.8, 2.8, 5.1, 2.4],\n",
       "       [6.4, 3.2, 5.3, 2.3],\n",
       "       [7.7, 3.8, 6.7, 2.2],\n",
       "       [7.2, 3.2, 6. , 1.8],\n",
       "       [7.2, 3. , 5.8, 1.6],\n",
       "       [6.4, 2.8, 5.6, 2.2],\n",
       "       [6.9, 3.1, 5.4, 2.1],\n",
       "       [6.7, 3.1, 5.6, 2.4],\n",
       "       [6.9, 3.1, 5.1, 2.3],\n",
       "       [6.8, 3.2, 5.9, 2.3],\n",
       "       [6.3, 2.5, 5. , 1.9]])"
      ]
     },
     "execution_count": 91,
     "metadata": {},
     "output_type": "execute_result"
    }
   ],
   "source": [
    "xtest"
   ]
  },
  {
   "cell_type": "code",
   "execution_count": 66,
   "id": "6086b68b",
   "metadata": {},
   "outputs": [
    {
     "data": {
      "text/plain": [
       "array([0., 0., 0., 0., 0., 0., 0., 0., 0., 0., 0., 0., 0., 0., 0., 1., 1.,\n",
       "       1., 1., 1., 1., 1., 1., 1., 1., 1., 1., 1., 1., 1., 2., 2., 2., 2.,\n",
       "       2., 2., 2., 2., 2., 2., 2., 2., 2., 2., 2.])"
      ]
     },
     "execution_count": 66,
     "metadata": {},
     "output_type": "execute_result"
    }
   ],
   "source": [
    "ytest"
   ]
  },
  {
   "cell_type": "code",
   "execution_count": 113,
   "id": "2dc2cf87",
   "metadata": {},
   "outputs": [],
   "source": [
    "#2)model\n",
    "model=tf.keras.models.Sequential([tf.keras.layers.Flatten(input_shape=(4,)), #input layer with 4 input\n",
    "                                   tf.keras.layers.Dense(100,activation='relu'), # 1th idden layers with 100 neurals \n",
    "                                   tf.keras.layers.Dense(100,activation='relu'),# 2th idden layers with 100 neurals\n",
    "                                 tf.keras.layers.Dense(100,activation='relu'),# 3th idden layers with 100 neurals\n",
    "                                  tf.keras.layers.Dense(100,activation='relu'),# 4th idden layers with 100 neurals\n",
    "                                 tf.keras.layers.Dense(3,activation='softmax'),])# output layers with 3 neurals"
   ]
  },
  {
   "cell_type": "code",
   "execution_count": 114,
   "id": "c0712241",
   "metadata": {},
   "outputs": [],
   "source": [
    "#3) compile the model \n",
    "model.compile(loss=\"sparse_categorical_crossentropy\",optimizer=\"sgd\",metrics=\"accuracy\")"
   ]
  },
  {
   "cell_type": "code",
   "execution_count": 115,
   "id": "e8093b50",
   "metadata": {},
   "outputs": [
    {
     "name": "stdout",
     "output_type": "stream",
     "text": [
      "Epoch 1/100\n",
      "53/53 [==============================] - 0s 1ms/step - loss: 0.8905 - accuracy: 0.6476\n",
      "Epoch 2/100\n",
      "53/53 [==============================] - 0s 1ms/step - loss: 0.6242 - accuracy: 0.7143\n",
      "Epoch 3/100\n",
      "53/53 [==============================] - 0s 1ms/step - loss: 0.4935 - accuracy: 0.7429\n",
      "Epoch 4/100\n",
      "53/53 [==============================] - 0s 1ms/step - loss: 0.4453 - accuracy: 0.7905\n",
      "Epoch 5/100\n",
      "53/53 [==============================] - 0s 1ms/step - loss: 0.4351 - accuracy: 0.7714\n",
      "Epoch 6/100\n",
      "53/53 [==============================] - 0s 1ms/step - loss: 0.3964 - accuracy: 0.8190\n",
      "Epoch 7/100\n",
      "53/53 [==============================] - 0s 1ms/step - loss: 0.3410 - accuracy: 0.8667\n",
      "Epoch 8/100\n",
      "53/53 [==============================] - 0s 1ms/step - loss: 0.3358 - accuracy: 0.8190\n",
      "Epoch 9/100\n",
      "53/53 [==============================] - 0s 1ms/step - loss: 0.3486 - accuracy: 0.8571\n",
      "Epoch 10/100\n",
      "53/53 [==============================] - 0s 1ms/step - loss: 0.3052 - accuracy: 0.8762\n",
      "Epoch 11/100\n",
      "53/53 [==============================] - 0s 1ms/step - loss: 0.2669 - accuracy: 0.8857\n",
      "Epoch 12/100\n",
      "53/53 [==============================] - 0s 1ms/step - loss: 0.2539 - accuracy: 0.8857\n",
      "Epoch 13/100\n",
      "53/53 [==============================] - 0s 1ms/step - loss: 0.3384 - accuracy: 0.8190\n",
      "Epoch 14/100\n",
      "53/53 [==============================] - 0s 1ms/step - loss: 0.2334 - accuracy: 0.9048\n",
      "Epoch 15/100\n",
      "53/53 [==============================] - 0s 1ms/step - loss: 0.2065 - accuracy: 0.9143\n",
      "Epoch 16/100\n",
      "53/53 [==============================] - 0s 1ms/step - loss: 0.3254 - accuracy: 0.8381\n",
      "Epoch 17/100\n",
      "53/53 [==============================] - 0s 1ms/step - loss: 0.1782 - accuracy: 0.9429\n",
      "Epoch 18/100\n",
      "53/53 [==============================] - 0s 1ms/step - loss: 0.2180 - accuracy: 0.8667\n",
      "Epoch 19/100\n",
      "53/53 [==============================] - 0s 1ms/step - loss: 0.1862 - accuracy: 0.9238\n",
      "Epoch 20/100\n",
      "53/53 [==============================] - 0s 1ms/step - loss: 0.2557 - accuracy: 0.8762\n",
      "Epoch 21/100\n",
      "53/53 [==============================] - 0s 1ms/step - loss: 0.2208 - accuracy: 0.9048\n",
      "Epoch 22/100\n",
      "53/53 [==============================] - 0s 1ms/step - loss: 0.2063 - accuracy: 0.9143\n",
      "Epoch 23/100\n",
      "53/53 [==============================] - 0s 1ms/step - loss: 0.1969 - accuracy: 0.9429\n",
      "Epoch 24/100\n",
      "53/53 [==============================] - 0s 1ms/step - loss: 0.1577 - accuracy: 0.9524\n",
      "Epoch 25/100\n",
      "53/53 [==============================] - 0s 1ms/step - loss: 0.1556 - accuracy: 0.9429\n",
      "Epoch 26/100\n",
      "53/53 [==============================] - 0s 1ms/step - loss: 0.2147 - accuracy: 0.9048\n",
      "Epoch 27/100\n",
      "53/53 [==============================] - 0s 1ms/step - loss: 0.2245 - accuracy: 0.9048\n",
      "Epoch 28/100\n",
      "53/53 [==============================] - 0s 1ms/step - loss: 0.1962 - accuracy: 0.9333\n",
      "Epoch 29/100\n",
      "53/53 [==============================] - 0s 1ms/step - loss: 0.1817 - accuracy: 0.9238\n",
      "Epoch 30/100\n",
      "53/53 [==============================] - 0s 1ms/step - loss: 0.1861 - accuracy: 0.9333\n",
      "Epoch 31/100\n",
      "53/53 [==============================] - 0s 1ms/step - loss: 0.1567 - accuracy: 0.9524\n",
      "Epoch 32/100\n",
      "53/53 [==============================] - 0s 1ms/step - loss: 0.1374 - accuracy: 0.9429\n",
      "Epoch 33/100\n",
      "53/53 [==============================] - 0s 1ms/step - loss: 0.1247 - accuracy: 0.9429\n",
      "Epoch 34/100\n",
      "53/53 [==============================] - 0s 1ms/step - loss: 0.1499 - accuracy: 0.9333\n",
      "Epoch 35/100\n",
      "53/53 [==============================] - 0s 1ms/step - loss: 0.1646 - accuracy: 0.9238\n",
      "Epoch 36/100\n",
      "53/53 [==============================] - 0s 1ms/step - loss: 0.1287 - accuracy: 0.9429\n",
      "Epoch 37/100\n",
      "53/53 [==============================] - 0s 1ms/step - loss: 0.1267 - accuracy: 0.9429\n",
      "Epoch 38/100\n",
      "53/53 [==============================] - 0s 1ms/step - loss: 0.2055 - accuracy: 0.9048\n",
      "Epoch 39/100\n",
      "53/53 [==============================] - 0s 1ms/step - loss: 0.1169 - accuracy: 0.9524\n",
      "Epoch 40/100\n",
      "53/53 [==============================] - 0s 1ms/step - loss: 0.1741 - accuracy: 0.9333\n",
      "Epoch 41/100\n",
      "53/53 [==============================] - 0s 1ms/step - loss: 0.1989 - accuracy: 0.9238\n",
      "Epoch 42/100\n",
      "53/53 [==============================] - 0s 1ms/step - loss: 0.1835 - accuracy: 0.9238\n",
      "Epoch 43/100\n",
      "53/53 [==============================] - 0s 1ms/step - loss: 0.1231 - accuracy: 0.9810\n",
      "Epoch 44/100\n",
      "53/53 [==============================] - 0s 1ms/step - loss: 0.1539 - accuracy: 0.9619\n",
      "Epoch 45/100\n",
      "53/53 [==============================] - 0s 1ms/step - loss: 0.1185 - accuracy: 0.9429\n",
      "Epoch 46/100\n",
      "53/53 [==============================] - 0s 1ms/step - loss: 0.1589 - accuracy: 0.9238\n",
      "Epoch 47/100\n",
      "53/53 [==============================] - 0s 1ms/step - loss: 0.1627 - accuracy: 0.9429\n",
      "Epoch 48/100\n",
      "53/53 [==============================] - 0s 1ms/step - loss: 0.1658 - accuracy: 0.9333\n",
      "Epoch 49/100\n",
      "53/53 [==============================] - 0s 1ms/step - loss: 0.1529 - accuracy: 0.9524\n",
      "Epoch 50/100\n",
      "53/53 [==============================] - 0s 1ms/step - loss: 0.1212 - accuracy: 0.9333\n",
      "Epoch 51/100\n",
      "53/53 [==============================] - 0s 1ms/step - loss: 0.2370 - accuracy: 0.9048\n",
      "Epoch 52/100\n",
      "53/53 [==============================] - 0s 1ms/step - loss: 0.1230 - accuracy: 0.9619\n",
      "Epoch 53/100\n",
      "53/53 [==============================] - 0s 1ms/step - loss: 0.0928 - accuracy: 0.9619\n",
      "Epoch 54/100\n",
      "53/53 [==============================] - 0s 1ms/step - loss: 0.1606 - accuracy: 0.9333\n",
      "Epoch 55/100\n",
      "53/53 [==============================] - 0s 1ms/step - loss: 0.1544 - accuracy: 0.9429\n",
      "Epoch 56/100\n",
      "53/53 [==============================] - 0s 1ms/step - loss: 0.1332 - accuracy: 0.9333\n",
      "Epoch 57/100\n",
      "53/53 [==============================] - 0s 1ms/step - loss: 0.1116 - accuracy: 0.9714\n",
      "Epoch 58/100\n",
      "53/53 [==============================] - 0s 1ms/step - loss: 0.1415 - accuracy: 0.9238\n",
      "Epoch 59/100\n",
      "53/53 [==============================] - 0s 1ms/step - loss: 0.1317 - accuracy: 0.9524\n",
      "Epoch 60/100\n",
      "53/53 [==============================] - 0s 1ms/step - loss: 0.1527 - accuracy: 0.9429\n",
      "Epoch 61/100\n",
      "53/53 [==============================] - 0s 1ms/step - loss: 0.1492 - accuracy: 0.9333\n",
      "Epoch 62/100\n",
      "53/53 [==============================] - 0s 1ms/step - loss: 0.1262 - accuracy: 0.9714\n",
      "Epoch 63/100\n",
      "53/53 [==============================] - 0s 1ms/step - loss: 0.1398 - accuracy: 0.9333\n",
      "Epoch 64/100\n",
      "53/53 [==============================] - 0s 1ms/step - loss: 0.1496 - accuracy: 0.9333\n",
      "Epoch 65/100\n",
      "53/53 [==============================] - 0s 1ms/step - loss: 0.0830 - accuracy: 0.9905\n",
      "Epoch 66/100\n",
      "53/53 [==============================] - 0s 1ms/step - loss: 0.1715 - accuracy: 0.9333\n",
      "Epoch 67/100\n",
      "53/53 [==============================] - 0s 1ms/step - loss: 0.1292 - accuracy: 0.9429\n",
      "Epoch 68/100\n",
      "53/53 [==============================] - 0s 1ms/step - loss: 0.1343 - accuracy: 0.9524\n",
      "Epoch 69/100\n",
      "53/53 [==============================] - 0s 1ms/step - loss: 0.1354 - accuracy: 0.9429\n",
      "Epoch 70/100\n",
      "53/53 [==============================] - 0s 1ms/step - loss: 0.0875 - accuracy: 0.9619\n",
      "Epoch 71/100\n",
      "53/53 [==============================] - 0s 1ms/step - loss: 0.1242 - accuracy: 0.9333\n",
      "Epoch 72/100\n",
      "53/53 [==============================] - 0s 1ms/step - loss: 0.1277 - accuracy: 0.9524\n",
      "Epoch 73/100\n",
      "53/53 [==============================] - 0s 1ms/step - loss: 0.0907 - accuracy: 0.9619\n",
      "Epoch 74/100\n",
      "53/53 [==============================] - 0s 1ms/step - loss: 0.1173 - accuracy: 0.9524\n",
      "Epoch 75/100\n",
      "53/53 [==============================] - 0s 1ms/step - loss: 0.2423 - accuracy: 0.9238\n",
      "Epoch 76/100\n",
      "53/53 [==============================] - 0s 1ms/step - loss: 0.1794 - accuracy: 0.9333\n",
      "Epoch 77/100\n",
      "53/53 [==============================] - 0s 1ms/step - loss: 0.1134 - accuracy: 0.9429\n",
      "Epoch 78/100\n",
      "53/53 [==============================] - 0s 1ms/step - loss: 0.1866 - accuracy: 0.9048\n",
      "Epoch 79/100\n",
      "53/53 [==============================] - 0s 1ms/step - loss: 0.1264 - accuracy: 0.9429\n",
      "Epoch 80/100\n",
      "53/53 [==============================] - 0s 1ms/step - loss: 0.1079 - accuracy: 0.9619\n",
      "Epoch 81/100\n",
      "53/53 [==============================] - 0s 1ms/step - loss: 0.1374 - accuracy: 0.9048\n",
      "Epoch 82/100\n",
      "53/53 [==============================] - 0s 1ms/step - loss: 0.1013 - accuracy: 0.9714\n",
      "Epoch 83/100\n"
     ]
    },
    {
     "name": "stdout",
     "output_type": "stream",
     "text": [
      "53/53 [==============================] - 0s 1ms/step - loss: 0.1091 - accuracy: 0.9429\n",
      "Epoch 84/100\n",
      "53/53 [==============================] - 0s 1ms/step - loss: 0.1615 - accuracy: 0.9429\n",
      "Epoch 85/100\n",
      "53/53 [==============================] - 0s 1ms/step - loss: 0.1213 - accuracy: 0.9429\n",
      "Epoch 86/100\n",
      "53/53 [==============================] - 0s 1ms/step - loss: 0.0987 - accuracy: 0.9619\n",
      "Epoch 87/100\n",
      "53/53 [==============================] - 0s 1ms/step - loss: 0.1080 - accuracy: 0.9429\n",
      "Epoch 88/100\n",
      "53/53 [==============================] - 0s 1ms/step - loss: 0.1170 - accuracy: 0.9524\n",
      "Epoch 89/100\n",
      "53/53 [==============================] - 0s 1ms/step - loss: 0.1006 - accuracy: 0.9714\n",
      "Epoch 90/100\n",
      "53/53 [==============================] - 0s 1ms/step - loss: 0.1146 - accuracy: 0.9714\n",
      "Epoch 91/100\n",
      "53/53 [==============================] - 0s 1ms/step - loss: 0.0805 - accuracy: 0.9619\n",
      "Epoch 92/100\n",
      "53/53 [==============================] - 0s 1ms/step - loss: 0.1617 - accuracy: 0.9524\n",
      "Epoch 93/100\n",
      "53/53 [==============================] - 0s 1ms/step - loss: 0.1126 - accuracy: 0.9619\n",
      "Epoch 94/100\n",
      "53/53 [==============================] - 0s 1ms/step - loss: 0.1265 - accuracy: 0.9333\n",
      "Epoch 95/100\n",
      "53/53 [==============================] - 0s 1ms/step - loss: 0.1121 - accuracy: 0.9429\n",
      "Epoch 96/100\n",
      "53/53 [==============================] - 0s 1ms/step - loss: 0.1114 - accuracy: 0.9619\n",
      "Epoch 97/100\n",
      "53/53 [==============================] - 0s 1ms/step - loss: 0.1911 - accuracy: 0.9333\n",
      "Epoch 98/100\n",
      "53/53 [==============================] - 0s 1ms/step - loss: 0.1133 - accuracy: 0.9524\n",
      "Epoch 99/100\n",
      "53/53 [==============================] - 0s 1ms/step - loss: 0.1062 - accuracy: 0.9524\n",
      "Epoch 100/100\n",
      "53/53 [==============================] - 0s 1ms/step - loss: 0.1057 - accuracy: 0.9714\n"
     ]
    },
    {
     "data": {
      "text/plain": [
       "<keras.callbacks.History at 0x1c1fcde6ac0>"
      ]
     },
     "execution_count": 115,
     "metadata": {},
     "output_type": "execute_result"
    }
   ],
   "source": [
    "#4) fitting the model\n",
    "model.fit(xtrain,ytrain,epochs=100,batch_size=2)"
   ]
  },
  {
   "cell_type": "code",
   "execution_count": 116,
   "id": "f68a1c06",
   "metadata": {},
   "outputs": [],
   "source": [
    "#5)  predicting unseen data those data are our testing data \n",
    "pred=model.predict(xtest)"
   ]
  },
  {
   "cell_type": "code",
   "execution_count": 117,
   "id": "775f6bf8",
   "metadata": {},
   "outputs": [
    {
     "data": {
      "text/plain": [
       "array([[9.99500275e-01, 4.99710557e-04, 4.52397453e-09],\n",
       "       [9.97730911e-01, 2.26908224e-03, 4.18100363e-08],\n",
       "       [9.97376680e-01, 2.62323790e-03, 8.88219844e-08],\n",
       "       [9.99087930e-01, 9.12058749e-04, 1.23836239e-08],\n",
       "       [9.96189296e-01, 3.81049467e-03, 1.81519553e-07],\n",
       "       [9.98898149e-01, 1.10185100e-03, 3.08688577e-08],\n",
       "       [9.99634981e-01, 3.65048123e-04, 3.67409236e-09],\n",
       "       [9.95798528e-01, 4.20131721e-03, 8.57383426e-08],\n",
       "       [9.96766925e-01, 3.23296059e-03, 8.91195242e-08],\n",
       "       [9.99682426e-01, 3.17582075e-04, 1.20948340e-09],\n",
       "       [9.97854412e-01, 2.14548851e-03, 8.16624777e-08],\n",
       "       [9.99132335e-01, 8.67672556e-04, 9.88607507e-09],\n",
       "       [9.78934050e-01, 2.10646559e-02, 1.26695898e-06],\n",
       "       [9.97976720e-01, 2.02331436e-03, 5.84868154e-08],\n",
       "       [9.99597847e-01, 4.02156758e-04, 3.99727940e-09],\n",
       "       [1.93484084e-04, 9.99390364e-01, 4.16147232e-04],\n",
       "       [4.09059256e-04, 9.97525871e-01, 2.06505461e-03],\n",
       "       [2.42444410e-04, 9.96036232e-01, 3.72136338e-03],\n",
       "       [1.51463202e-03, 9.93867218e-01, 4.61815763e-03],\n",
       "       [4.33776266e-04, 9.98534083e-01, 1.03212346e-03],\n",
       "       [7.75293505e-04, 8.87514710e-01, 1.11709997e-01],\n",
       "       [6.01950684e-04, 9.98465419e-01, 9.32695635e-04],\n",
       "       [4.45291400e-04, 1.07416704e-01, 8.92138064e-01],\n",
       "       [5.54213126e-04, 9.98737872e-01, 7.07969768e-04],\n",
       "       [5.59999375e-04, 9.79120612e-01, 2.03194208e-02],\n",
       "       [3.10733565e-04, 9.99026418e-01, 6.62857783e-04],\n",
       "       [2.58743472e-04, 9.95266318e-01, 4.47490718e-03],\n",
       "       [5.03915362e-04, 5.90071857e-01, 4.09424186e-01],\n",
       "       [9.00940911e-04, 9.15237844e-01, 8.38611647e-02],\n",
       "       [1.19408930e-03, 9.84113514e-01, 1.46924406e-02],\n",
       "       [1.19383085e-05, 6.09373907e-03, 9.93894279e-01],\n",
       "       [4.19045227e-06, 4.08916268e-03, 9.95906591e-01],\n",
       "       [7.03872065e-05, 1.92400068e-02, 9.80689585e-01],\n",
       "       [5.88738440e-05, 1.46815144e-02, 9.85259652e-01],\n",
       "       [2.44021739e-05, 8.19496252e-03, 9.91780698e-01],\n",
       "       [3.96250907e-05, 1.16406716e-02, 9.88319755e-01],\n",
       "       [5.62233572e-06, 4.67279227e-03, 9.95321572e-01],\n",
       "       [4.79939081e-05, 2.91696656e-02, 9.70782340e-01],\n",
       "       [1.22129670e-04, 1.11467168e-01, 8.88410687e-01],\n",
       "       [1.60300715e-05, 7.23491143e-03, 9.92749035e-01],\n",
       "       [7.75028675e-05, 2.94359196e-02, 9.70486522e-01],\n",
       "       [1.59195224e-05, 7.09059322e-03, 9.92893517e-01],\n",
       "       [1.05921048e-04, 3.85654643e-02, 9.61328566e-01],\n",
       "       [1.05149775e-05, 5.74682793e-03, 9.94242609e-01],\n",
       "       [1.29919441e-04, 2.99220793e-02, 9.69947994e-01]], dtype=float32)"
      ]
     },
     "execution_count": 117,
     "metadata": {},
     "output_type": "execute_result"
    }
   ],
   "source": [
    "pred"
   ]
  },
  {
   "cell_type": "code",
   "execution_count": 118,
   "id": "6d8884da",
   "metadata": {},
   "outputs": [
    {
     "data": {
      "text/plain": [
       "array([0, 0, 0, 0, 0, 0, 0, 0, 0, 0, 0, 0, 0, 0, 0, 1, 1, 1, 1, 1, 1, 1,\n",
       "       2, 1, 1, 1, 1, 1, 1, 1, 2, 2, 2, 2, 2, 2, 2, 2, 2, 2, 2, 2, 2, 2,\n",
       "       2], dtype=int64)"
      ]
     },
     "execution_count": 118,
     "metadata": {},
     "output_type": "execute_result"
    }
   ],
   "source": [
    "np.argmax(pred,axis=1)"
   ]
  },
  {
   "cell_type": "code",
   "execution_count": 119,
   "id": "781bd104",
   "metadata": {},
   "outputs": [
    {
     "data": {
      "text/plain": [
       "array(['setosa', 'setosa', 'setosa', 'setosa', 'setosa', 'setosa',\n",
       "       'setosa', 'setosa', 'setosa', 'setosa', 'setosa', 'setosa',\n",
       "       'setosa', 'setosa', 'setosa', 'versicolor', 'versicolor',\n",
       "       'versicolor', 'versicolor', 'versicolor', 'versicolor',\n",
       "       'versicolor', 'virginica', 'versicolor', 'versicolor',\n",
       "       'versicolor', 'versicolor', 'versicolor', 'versicolor',\n",
       "       'versicolor', 'virginica', 'virginica', 'virginica', 'virginica',\n",
       "       'virginica', 'virginica', 'virginica', 'virginica', 'virginica',\n",
       "       'virginica', 'virginica', 'virginica', 'virginica', 'virginica',\n",
       "       'virginica'], dtype=object)"
      ]
     },
     "execution_count": 119,
     "metadata": {},
     "output_type": "execute_result"
    }
   ],
   "source": [
    "le.inverse_transform(np.argmax(pred,axis=1))"
   ]
  },
  {
   "cell_type": "code",
   "execution_count": 121,
   "id": "25f81371",
   "metadata": {},
   "outputs": [
    {
     "data": {
      "text/plain": [
       "array(['setosa', 'setosa', 'setosa', 'setosa', 'setosa', 'setosa',\n",
       "       'setosa', 'setosa', 'setosa', 'setosa', 'setosa', 'setosa',\n",
       "       'setosa', 'setosa', 'setosa', 'versicolor', 'versicolor',\n",
       "       'versicolor', 'versicolor', 'versicolor', 'versicolor',\n",
       "       'versicolor', 'versicolor', 'versicolor', 'versicolor',\n",
       "       'versicolor', 'versicolor', 'versicolor', 'versicolor',\n",
       "       'versicolor', 'virginica', 'virginica', 'virginica', 'virginica',\n",
       "       'virginica', 'virginica', 'virginica', 'virginica', 'virginica',\n",
       "       'virginica', 'virginica', 'virginica', 'virginica', 'virginica',\n",
       "       'virginica'], dtype=object)"
      ]
     },
     "execution_count": 121,
     "metadata": {},
     "output_type": "execute_result"
    }
   ],
   "source": [
    "\n",
    "le.inverse_transform(ytest.astype(int))"
   ]
  },
  {
   "cell_type": "code",
   "execution_count": 125,
   "id": "2c971053",
   "metadata": {},
   "outputs": [
    {
     "name": "stdout",
     "output_type": "stream",
     "text": [
      "accuracy: 97.14%\n"
     ]
    }
   ],
   "source": [
    "#as we can see up it's a good model we can trust it the accuracy being 97,14%\n",
    "#let's get the pickel model \n",
    "# save the  model\n",
    "scores = model.evaluate(xtrain, ytrain, verbose=0)\n",
    "print(\"%s: %.2f%%\" % (model.metrics_names[1], scores[1]*100))"
   ]
  },
  {
   "cell_type": "code",
   "execution_count": 127,
   "id": "3d8237e5",
   "metadata": {},
   "outputs": [
    {
     "name": "stdout",
     "output_type": "stream",
     "text": [
      "INFO:tensorflow:Assets written to: model\\assets\n"
     ]
    }
   ],
   "source": [
    "model.save(\"model\")"
   ]
  },
  {
   "cell_type": "code",
   "execution_count": null,
   "id": "44ad4a93",
   "metadata": {},
   "outputs": [],
   "source": []
  }
 ],
 "metadata": {
  "kernelspec": {
   "display_name": "Python 3",
   "language": "python",
   "name": "python3"
  },
  "language_info": {
   "codemirror_mode": {
    "name": "ipython",
    "version": 3
   },
   "file_extension": ".py",
   "mimetype": "text/x-python",
   "name": "python",
   "nbconvert_exporter": "python",
   "pygments_lexer": "ipython3",
   "version": "3.8.8"
  }
 },
 "nbformat": 4,
 "nbformat_minor": 5
}
